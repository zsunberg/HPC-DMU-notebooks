{
 "cells": [
  {
   "cell_type": "code",
   "execution_count": null,
   "metadata": {
    "collapsed": true
   },
   "outputs": [],
   "source": [
    "using POMDPs\n",
    "using POMDPToolbox\n",
    "using POMDPModels"
   ]
  },
  {
   "cell_type": "code",
   "execution_count": null,
   "metadata": {
    "collapsed": false
   },
   "outputs": [],
   "source": [
    "mdp = GridWorld()"
   ]
  },
  {
   "cell_type": "code",
   "execution_count": null,
   "metadata": {
    "collapsed": false
   },
   "outputs": [],
   "source": [
    "s0 = initial_state(mdp, Base.GLOBAL_RNG)\n",
    "rewards = map(s->reward(mdp,s,:left), iterator(states(mdp)))\n",
    "plot(mdp, rewards, s0)"
   ]
  },
  {
   "cell_type": "code",
   "execution_count": null,
   "metadata": {
    "collapsed": false
   },
   "outputs": [],
   "source": [
    "@show actions(mdp)"
   ]
  },
  {
   "cell_type": "code",
   "execution_count": null,
   "metadata": {
    "collapsed": false
   },
   "outputs": [],
   "source": [
    "# define your policy here\n",
    "function mypolicy(s)\n",
    "    if s.x > 2\n",
    "        return :right\n",
    "    else\n",
    "        return :up\n",
    "    end\n",
    "end\n",
    "\n",
    "# plot the policy\n",
    "plot(mdp, rewards, FunctionPolicy(mypolicy))"
   ]
  },
  {
   "cell_type": "code",
   "execution_count": null,
   "metadata": {
    "collapsed": false
   },
   "outputs": [],
   "source": [
    "using Interact\n",
    "value = Interact.value\n",
    "# show a single simulation\n",
    "policy = FunctionPolicy(mypolicy)\n",
    "sim = HistoryRecorder(max_steps=50)\n",
    "hist = simulate(sim, mdp, policy)\n",
    "@manipulate for i in 1:length(hist)\n",
    "    state = state_hist(hist)[i]\n",
    "    plot(mdp, rewards, policy, state)\n",
    "end"
   ]
  },
  {
   "cell_type": "code",
   "execution_count": null,
   "metadata": {
    "collapsed": false
   },
   "outputs": [],
   "source": [
    "# Use Monte Carlo Simulation to evaluate the policy\n",
    "N = 10000\n",
    "ro = RolloutSimulator(max_steps=100)\n",
    "policy = FunctionPolicy(mypolicy)\n",
    "sum = 0.0\n",
    "for i in 1:N\n",
    "    sum += simulate(ro, mdp, policy)\n",
    "end\n",
    "println(\"Mean discounted cumulative reward: $(sum/N)\")"
   ]
  },
  {
   "cell_type": "code",
   "execution_count": null,
   "metadata": {
    "collapsed": true
   },
   "outputs": [],
   "source": []
  }
 ],
 "metadata": {
  "anaconda-cloud": {},
  "kernelspec": {
   "display_name": "Julia 0.5.1",
   "language": "julia",
   "name": "julia-0.5"
  },
  "language_info": {
   "file_extension": ".jl",
   "mimetype": "application/julia",
   "name": "julia",
   "version": "0.5.1"
  },
  "widgets": {
   "state": {
    "c5fa14b4-04ac-45c6-9948-6d96d22f8018": {
     "views": [
      {
       "cell_index": 5
      }
     ]
    }
   },
   "version": "1.2.0"
  }
 },
 "nbformat": 4,
 "nbformat_minor": 1
}
