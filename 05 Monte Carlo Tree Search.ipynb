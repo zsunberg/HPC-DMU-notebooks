{
 "cells": [
  {
   "cell_type": "code",
   "execution_count": null,
   "metadata": {
    "collapsed": true
   },
   "outputs": [],
   "source": [
    "using POMDPs\n",
    "POMDPs.add(\"MCTS\")"
   ]
  },
  {
   "cell_type": "code",
   "execution_count": null,
   "metadata": {
    "collapsed": true
   },
   "outputs": [],
   "source": [
    "using POMDPs\n",
    "using POMDPModels\n",
    "using POMDPToolbox\n",
    "using MCTS"
   ]
  },
  {
   "cell_type": "code",
   "execution_count": null,
   "metadata": {
    "collapsed": false
   },
   "outputs": [],
   "source": [
    "mdp = GridWorld()\n",
    "\n",
    "plot(mdp, s->reward(mdp, s, :up))"
   ]
  },
  {
   "cell_type": "markdown",
   "metadata": {},
   "source": [
    "# Monte Carlo Tree Search"
   ]
  },
  {
   "cell_type": "code",
   "execution_count": null,
   "metadata": {
    "collapsed": false
   },
   "outputs": [],
   "source": [
    "n_iter = 10\n",
    "depth = 10\n",
    "exploration_bonus = 1.0\n",
    "\n",
    "solver = MCTSSolver(\n",
    "    n_iterations=n_iter,\n",
    "    depth=depth,\n",
    "    exploration_constant=exploration_bonus,\n",
    "    enable_tree_vis=true,\n",
    "    estimate_value=RolloutEstimator(RandomPolicy(mdp))\n",
    ")\n",
    "\n",
    "# solve() doesn't actually do any computation, it just\n",
    "# tells the planner that this is the problem it will be\n",
    "# working with.\n",
    "planner = solve(solver, mdp)\n",
    "\n",
    "s = GridWorldState(2,2)\n",
    "a = action(planner, s)"
   ]
  },
  {
   "cell_type": "code",
   "execution_count": null,
   "metadata": {
    "collapsed": false
   },
   "outputs": [],
   "source": [
    "TreeVisualizer(planner, s)"
   ]
  },
  {
   "cell_type": "markdown",
   "metadata": {},
   "source": [
    "# Task:\n",
    "\n",
    "Adjust parameters until it works well. You may want to use this rollout policy:\n",
    "\n",
    "```julia\n",
    "type SeekTarget <: Policy{GridWorldState}\n",
    "    target::GridWorldState\n",
    "end\n",
    "\n",
    "function POMDPs.action(p::SeekTarget, s::GridWorldState)\n",
    "    if p.target.x > s.x\n",
    "        return GridWorldAction(:right)\n",
    "    elseif p.target.x < s.x\n",
    "        return GridWorldAction(:left)\n",
    "    elseif p.target.y > s.y\n",
    "        return GridWorldAction(:up)\n",
    "    else\n",
    "        return GridWorldAction(:down)\n",
    "    end\n",
    "end\n",
    "```\n",
    "\n",
    "To use it, paste the policy definition into a cell and execute it, then use the `estimate_value` option to tell the MCTS solver to use it:\n",
    "\n",
    "```julia\n",
    "solver = MCTSSolver(\n",
    "    # ...\n",
    "    estimate_value=RolloutEstimator(SeekTarget(GridWorldState(x,y))),\n",
    ")\n",
    "```"
   ]
  },
  {
   "cell_type": "code",
   "execution_count": null,
   "metadata": {
    "collapsed": false
   },
   "outputs": [],
   "source": [
    "n_iter = 10\n",
    "depth = 10\n",
    "exploration_bonus = 1.0\n",
    "\n",
    "solver = MCTSSolver(\n",
    "    n_iterations=n_iter,\n",
    "    depth=depth,\n",
    "    exploration_constant=exploration_bonus,\n",
    "    enable_tree_vis=true,\n",
    "    estimate_value=RolloutEstimator(RandomPolicy(mdp))\n",
    ")\n",
    "\n",
    "# solve() doesn't actually do any computation, it just\n",
    "# tells the planner that this is the problem it will be\n",
    "# working with.\n",
    "planner = solve(solver, mdp)\n",
    "\n",
    "s = GridWorldState(2,2)\n",
    "a = action(planner, s)"
   ]
  },
  {
   "cell_type": "code",
   "execution_count": null,
   "metadata": {
    "collapsed": false
   },
   "outputs": [],
   "source": [
    "TreeVisualizer(planner, s)"
   ]
  },
  {
   "cell_type": "code",
   "execution_count": null,
   "metadata": {
    "collapsed": true
   },
   "outputs": [],
   "source": []
  }
 ],
 "metadata": {
  "anaconda-cloud": {},
  "kernelspec": {
   "display_name": "Julia 0.5.1",
   "language": "julia",
   "name": "julia-0.5"
  },
  "language_info": {
   "file_extension": ".jl",
   "mimetype": "application/julia",
   "name": "julia",
   "version": "0.5.1"
  }
 },
 "nbformat": 4,
 "nbformat_minor": 1
}
