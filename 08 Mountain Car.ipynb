{
 "cells": [
  {
   "cell_type": "markdown",
   "metadata": {},
   "source": [
    "# Mountain Car\n",
    "\n",
    "This is a classic reinforcement learning problem that showcases the problem of credit assignment and can be solved with eligibility traces."
   ]
  },
  {
   "cell_type": "code",
   "execution_count": null,
   "metadata": {
    "collapsed": false
   },
   "outputs": [],
   "source": [
    "using DataFrames\n",
    "using Iterators\n",
    "using Plots\n",
    "using PyCall\n",
    "using Images\n",
    "using FileIO\n",
    "using ImageView\n",
    "\n",
    "push!(LOAD_PATH, \".\")\n",
    "using OfficialProblems\n",
    "\n",
    "@pyimport problem_2\n",
    "@pyimport problem_2_gif"
   ]
  },
  {
   "cell_type": "markdown",
   "metadata": {},
   "source": [
    "In the Mountain car problem, the agent applies positive or negative force (7 actions) to try to reach the flag. There is a positive reward for the flag and a negative reward for the force."
   ]
  },
  {
   "cell_type": "code",
   "execution_count": null,
   "metadata": {
    "collapsed": false
   },
   "outputs": [],
   "source": [
    "rs = randstring(6)\n",
    "gifname = \"mountain_car_viz_$rs.gif\"\n",
    "policy = problem_2.RandomPolicy()\n",
    "problem_2_gif.rollout_save_gif(p2, policy, gifname)\n",
    "HTML(\"\"\"<img src=\"mountain_car_viz_$rs.gif\" alt=\"Mountain Car Gif\">\"\"\")"
   ]
  },
  {
   "cell_type": "code",
   "execution_count": null,
   "metadata": {
    "collapsed": true
   },
   "outputs": [],
   "source": [
    "# get rid of the old gif\n",
    "run(`rm mountain_car_viz_$rs.gif`)"
   ]
  },
  {
   "cell_type": "markdown",
   "metadata": {},
   "source": [
    "For simplicity we will learn on the same data every time."
   ]
  },
  {
   "cell_type": "code",
   "execution_count": null,
   "metadata": {
    "collapsed": false
   },
   "outputs": [],
   "source": [
    "using QLearn"
   ]
  },
  {
   "cell_type": "code",
   "execution_count": null,
   "metadata": {
    "collapsed": false
   },
   "outputs": [],
   "source": [
    "U, policy = qlearn(alpha=0.1, lambda=0.0, dataruns=5)"
   ]
  },
  {
   "cell_type": "code",
   "execution_count": null,
   "metadata": {
    "collapsed": false
   },
   "outputs": [],
   "source": [
    "plotly()\n",
    "spy(U, xlabel=\"velocity\", ylabel=\"position\", title=\"Value function (U)\", aspect_ratio=:equal)"
   ]
  },
  {
   "cell_type": "code",
   "execution_count": null,
   "metadata": {
    "collapsed": false
   },
   "outputs": [],
   "source": [
    "rs = randstring(6)\n",
    "gifname = \"mountain_car_viz_$rs.gif\"\n",
    "writedlm(\"qlearn.policy\", policy)\n",
    "problem_2_gif.rollout_save_gif(p2, problem_2.FilePolicy(p2, \"qlearn.policy\"), gifname)\n",
    "HTML(\"\"\"<img src=\"mountain_car_viz_$rs.gif\" alt=\"Mountain Car Gif\">\"\"\")"
   ]
  },
  {
   "cell_type": "code",
   "execution_count": null,
   "metadata": {
    "collapsed": false
   },
   "outputs": [],
   "source": [
    "score = @time problem_2.evaluate(p2, policy, 1000, 1, 1000)\n",
    "println(\"score: $score\")"
   ]
  },
  {
   "cell_type": "code",
   "execution_count": null,
   "metadata": {
    "collapsed": true
   },
   "outputs": [],
   "source": [
    "# get rid of the old gif\n",
    "run(`rm mountain_car_viz_$rs.gif`)"
   ]
  }
 ],
 "metadata": {
  "anaconda-cloud": {},
  "kernelspec": {
   "display_name": "Julia 0.5.1",
   "language": "julia",
   "name": "julia-0.5"
  },
  "language_info": {
   "file_extension": ".jl",
   "mimetype": "application/julia",
   "name": "julia",
   "version": "0.5.1"
  }
 },
 "nbformat": 4,
 "nbformat_minor": 1
}
